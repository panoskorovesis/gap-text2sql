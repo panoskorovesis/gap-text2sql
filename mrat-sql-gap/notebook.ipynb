{
 "cells": [
  {
   "cell_type": "code",
   "execution_count": 2,
   "metadata": {
    "tags": []
   },
   "outputs": [],
   "source": [
    "import json\n",
    "import os\n",
    "import _jsonnet\n",
    "import os\n",
    "import warnings\n",
    "import pandas as pd\n",
    "warnings.filterwarnings('ignore')"
   ]
  },
  {
   "cell_type": "code",
   "execution_count": 3,
   "metadata": {
    "tags": []
   },
   "outputs": [],
   "source": [
    "from seq2struct.commands.infer import Inferer\n",
    "from seq2struct.datasets.spider import SpiderItem\n",
    "from seq2struct.utils import registry"
   ]
  },
  {
   "cell_type": "code",
   "execution_count": 4,
   "metadata": {
    "tags": []
   },
   "outputs": [],
   "source": [
    "import torch"
   ]
  },
  {
   "cell_type": "code",
   "execution_count": 5,
   "metadata": {
    "tags": []
   },
   "outputs": [],
   "source": [
    "# Define a function to load JSON data from a file\n",
    "def load_json(filename):\n",
    "    # Open the specified file in read mode, specifying utf-8 encoding\n",
    "    with open(filename, 'r', encoding='utf-8') as file:\n",
    "        # Load the JSON data from the file into a Python dictionary\n",
    "        data = json.load(file)\n",
    "    # Return the loaded data\n",
    "    return data"
   ]
  },
  {
   "cell_type": "code",
   "execution_count": 6,
   "metadata": {
    "tags": []
   },
   "outputs": [],
   "source": [
    "# exp_config = json.loads(_jsonnet.evaluate_file(\"experiments/spider-configs/gap-run.jsonnet\"))\n",
    "exp_config = json.loads(_jsonnet.evaluate_file(\"experiments/spider-configs/spider-mT5-base-en-train_en_eval.jsonnet\"))"
   ]
  },
  {
   "cell_type": "code",
   "execution_count": 7,
   "metadata": {
    "tags": []
   },
   "outputs": [],
   "source": [
    "model_config_path = exp_config[\"model_config\"]\n",
    "model_config_args = exp_config.get(\"model_config_args\")\n",
    "\n",
    "#print(model_config_path)\n",
    "#print(model_config_args)"
   ]
  },
  {
   "cell_type": "code",
   "execution_count": 8,
   "metadata": {
    "tags": []
   },
   "outputs": [],
   "source": [
    "def createPath(lr, bert_lr, end_lr, bs, att):\n",
    "    lr_s = '%0.1e' % lr\n",
    "    bert_lr_s = '%0.1e' % bert_lr\n",
    "    end_lr_s = '0e0' if end_lr == 0 else '%0.1e' % end_lr\n",
    "\n",
    "    base_bert_enc_size = 768\n",
    "    enc_size = base_bert_enc_size\n",
    "\n",
    "    model_name = '/bs=%(bs)d,lr=%(lr)s,bert_lr=%(bert_lr)s,end_lr=%(end_lr)s,att=%(att)d' % {\n",
    "        'bs': bs,\n",
    "        'lr': lr_s,\n",
    "        'bert_lr': bert_lr_s,\n",
    "        'end_lr': end_lr_s,\n",
    "        'att': att\n",
    "    }\n",
    "    return model_name"
   ]
  },
  {
   "cell_type": "code",
   "execution_count": 9,
   "metadata": {
    "tags": []
   },
   "outputs": [],
   "source": [
    "infer_config = json.loads(\n",
    "    _jsonnet.evaluate_file(\n",
    "        model_config_path, \n",
    "        tla_codes={'args': json.dumps(model_config_args)}))\n",
    "\n",
    "#print(infer_config['model']['encoder_preproc'])"
   ]
  },
  {
   "cell_type": "code",
   "execution_count": 10,
   "metadata": {
    "tags": []
   },
   "outputs": [],
   "source": [
    "db_path = infer_config[\"model\"][\"encoder_preproc\"][\"db_path\"]\n",
    "\n",
    "db_path_for_json = infer_config['data']['val']['tables_paths'][0]"
   ]
  },
  {
   "cell_type": "code",
   "execution_count": 11,
   "metadata": {
    "tags": []
   },
   "outputs": [
    {
     "data": {
      "text/plain": [
       "'data/spider-en/tables.json'"
      ]
     },
     "execution_count": 11,
     "metadata": {},
     "output_type": "execute_result"
    }
   ],
   "source": [
    "db_path_for_json"
   ]
  },
  {
   "cell_type": "code",
   "execution_count": 12,
   "metadata": {
    "tags": []
   },
   "outputs": [],
   "source": [
    "schemas = os.listdir(db_path)\n",
    "\n",
    "schemas_list = load_json(db_path_for_json)"
   ]
  },
  {
   "cell_type": "code",
   "execution_count": 13,
   "metadata": {
    "tags": []
   },
   "outputs": [
    {
     "name": "stdout",
     "output_type": "stream",
     "text": [
      "You can choose a database from the below:\n",
      "activity_1, wrestler, club_1, department_store, e_government, singer, architecture, film_rank, culture_company, course_teach, architecture, car_1, pilot_record, entrepreneur, college_3, csu_1, ship_mission, debate, loan_1, customer_deliveries, company_employee, program_share, climbing, music_1, voter_2, gas_company, cre_Doc_Control_Systems, scientist_1, party_host, voter_1, customers_campaigns_ecommerce, election, aircraft, entrepreneur, insurance_and_eClaims, cre_Doc_Tracking_DB, csu_1, hospital_1, orchestra, customers_and_products_contacts, gymnast, cre_Docs_and_Epenses, voter_1, voter_2, restaurants, ship_1, epinions_1, coffee_shop, restaurants, scientist_1, customer_deliveries, company_1, voter_2, product_catalog, ship_1, station_weather, customers_campaigns_ecommerce, singer, customers_and_addresses, chinook_1, sports_competition, party_people, device, theme_gallery, movie_1, voter_2, concert_singer, customers_campaigns_ecommerce, behavior_monitoring, document_management, manufactory_1, workshop_paper, singer, match_season, scholar, loan_1, soccer_1, student_1, customer_deliveries, railway, e_learning, university_basketball, manufactory_1, customers_and_addresses, film_rank, behavior_monitoring, small_bank_1, college_2, scholar, machine_repair, theme_gallery, tracking_orders, party_host, orchestra, formula_1, cre_Docs_and_Epenses, scientist_1, products_gen_characteristics, soccer_2, election, pilot_record, wta_1, sports_competition, candidate_poll, gymnast, scientist_1, election_representative, performance_attendance, insurance_fnol, dorm_1, customers_and_invoices, decoration_competition, assets_maintenance, gas_company, club_1, employee_hire_evaluation, music_1, assets_maintenance, decoration_competition, customer_deliveries, geo, inn_1, flight_1, epinions_1, world_1, soccer_2, entertainment_awards, flight_1, pets_1, architecture, news_report, geo, customers_and_invoices, customer_deliveries, storm_record, e_learning, cre_Doc_Template_Mgt, climbing, party_people, city_record, customers_campaigns_ecommerce, school_bus, perpetrator, tracking_orders, course_teach, pets_1, tracking_software_problems, match_season, network_1, party_people, concert_singer, aircraft, manufacturer, pets_1, storm_record, manufactory_1, culture_company, program_share, e_learning, imdb, device, body_builder, store_1, allergy_1, local_govt_in_alabama, battle_death\n"
     ]
    }
   ],
   "source": [
    "import random\n",
    "N=len(schemas)\n",
    "\n",
    "selected_schemas = random.choices(schemas, k=N)\n",
    "print('You can choose a database from the below:')\n",
    "print(', '.join(selected_schemas))"
   ]
  },
  {
   "cell_type": "code",
   "execution_count": 14,
   "metadata": {
    "tags": []
   },
   "outputs": [
    {
     "name": "stderr",
     "output_type": "stream",
     "text": [
      "WARNING <class 'seq2struct.models.enc_dec.EncDecModel.Preproc'>: superfluous {'name': 'EncDec'}\n"
     ]
    },
    {
     "name": "stdout",
     "output_type": "stream",
     "text": [
      "SpiderEncoderT5Preproc Model: google/mt5-base\n",
      "No GAP - Generation-Augmented Pre-Training\n",
      "T5 load Model: google/mt5-base\n"
     ]
    }
   ],
   "source": [
    "inferer = Inferer(infer_config)"
   ]
  },
  {
   "cell_type": "code",
   "execution_count": 15,
   "metadata": {
    "tags": []
   },
   "outputs": [],
   "source": [
    "# model_dir = exp_config[\"logdir\"] + \"/bs=12,lr=1.0e-04,bert_lr=1.0e-05,end_lr=0e0,att=1\"\n",
    "# checkpoint_step = exp_config[\"eval_steps\"][0]\n",
    "\n",
    "# '/home/studio-lab-user/gr-spider/Database-Systems/gap-text2sql/mrat-sql-gap/logdir/mT5-base-en-train/bs=4,lr=1.0e-04,bert_lr=1.0e-05,end_lr=0e0,att=1/val_loss.txt'\n",
    "logdir_path = exp_config[\"logdir\"]\n",
    "path_save = createPath(model_config_args['lr'], model_config_args['bert_lr'], model_config_args['end_lr'], model_config_args['bs'], model_config_args['att'])\n",
    "model_dir = logdir_path + path_save\n",
    "\n",
    "checkpoint_step = exp_config[\"eval_steps\"][0]"
   ]
  },
  {
   "cell_type": "code",
   "execution_count": 16,
   "metadata": {
    "tags": []
   },
   "outputs": [
    {
     "name": "stderr",
     "output_type": "stream",
     "text": [
      "WARNING <class 'seq2struct.models.enc_dec.EncDecModel'>: superfluous {'decoder_preproc': {'grammar': {'clause_order': None, 'end_with_from': True, 'factorize_sketch': 2, 'include_literals': False, 'infer_from_conditions': True, 'name': 'spider', 'output_from': True, 'use_table_pointer': True}, 'save_path': 'data/spider-en/mT5-base-nl2code-1115,output_from=true,fs=2,emb=t5,cvlink', 'use_seq_elem_rules': True}, 'encoder_preproc': {'compute_cv_link': True, 'compute_sc_link': True, 'db_path': 'data/spider-en/database', 'fix_issue_16_primary_keys': True, 'include_table_name_in_column': False, 'pretrained_checkpoint': 'models/mt5-base/pretrained_checkpoint/pytorch_model.bin', 'save_path': 'data/spider-en/mT5-base-nl2code-1115,output_from=true,fs=2,emb=t5,cvlink', 't5_version': 'google/mt5-base'}}\n"
     ]
    },
    {
     "name": "stdout",
     "output_type": "stream",
     "text": [
      "SpiderEncoderT5 Model: google/mt5-base\n",
      "No GAP - Generation-Augmented Pre-Training\n"
     ]
    },
    {
     "name": "stderr",
     "output_type": "stream",
     "text": [
      "Some weights of the model checkpoint at google/mt5-base were not used when initializing MT5Model: ['lm_head.weight']\n",
      "- This IS expected if you are initializing MT5Model from the checkpoint of a model trained on another task or with another architecture (e.g. initializing a BertForSequenceClassification model from a BertForPreTraining model).\n",
      "- This IS NOT expected if you are initializing MT5Model from the checkpoint of a model that you expect to be exactly identical (initializing a BertForSequenceClassification model from a BertForSequenceClassification model).\n"
     ]
    },
    {
     "name": "stdout",
     "output_type": "stream",
     "text": [
      "Parameter containing:\n",
      "tensor([[ 1.7500e+00, -1.6719e+00,  2.4062e+00,  ...,  6.9580e-03,\n",
      "         -9.8828e-01, -4.6875e-01],\n",
      "        [ 8.5625e+00,  5.5625e+00, -1.7109e+00,  ...,  7.7812e+00,\n",
      "         -5.2812e+00, -3.2188e+00],\n",
      "        [ 6.8750e-01, -4.5312e-01,  5.7812e-01,  ...,  7.3828e-01,\n",
      "         -3.0078e-01,  2.0312e-01],\n",
      "        ...,\n",
      "        [ 8.0859e-01, -1.2812e+00,  2.2344e+00,  ...,  8.0469e-01,\n",
      "          7.7344e-01,  1.8672e+00],\n",
      "        [ 2.9688e-01, -1.4453e+00,  9.6484e-01,  ...,  8.9453e-01,\n",
      "          2.3906e+00, -4.1797e-01],\n",
      "        [ 1.0469e+00, -2.7930e-01,  9.7266e-01,  ..., -3.1250e+00,\n",
      "          1.2344e+00, -7.6562e-01]], requires_grad=True)\n",
      "Parameter containing:\n",
      "tensor([[ 1.7500e+00, -1.6719e+00,  2.4062e+00,  ...,  6.9580e-03,\n",
      "         -9.8828e-01, -4.6875e-01],\n",
      "        [ 8.5625e+00,  5.5625e+00, -1.7109e+00,  ...,  7.7812e+00,\n",
      "         -5.2812e+00, -3.2188e+00],\n",
      "        [ 6.8750e-01, -4.5312e-01,  5.7812e-01,  ...,  7.3828e-01,\n",
      "         -3.0078e-01,  2.0312e-01],\n",
      "        ...,\n",
      "        [-6.6895e-02,  1.0010e-01,  4.6289e-01,  ...,  2.5469e+00,\n",
      "          2.7539e-01, -9.6680e-02],\n",
      "        [ 1.3770e-01, -6.9531e-01,  6.4062e-01,  ..., -8.2812e-01,\n",
      "          9.5215e-02,  7.6172e-01],\n",
      "        [-1.6328e+00,  4.5312e-01,  5.8350e-02,  ...,  1.1250e+00,\n",
      "          3.8672e-01, -8.1250e-01]], requires_grad=True)\n",
      "Loading model from logdir/mT5-base-en-train/bs=4,lr=1.0e-04,bert_lr=1.0e-05,end_lr=0e0,att=1/model_checkpoint-00008460\n"
     ]
    }
   ],
   "source": [
    "model = inferer.load_model(model_dir, checkpoint_step)"
   ]
  },
  {
   "cell_type": "code",
   "execution_count": 17,
   "metadata": {
    "tags": []
   },
   "outputs": [],
   "source": [
    "from seq2struct.datasets.spider_lib.preprocess.get_tables import dump_db_json_schema\n",
    "from seq2struct.datasets.spider import load_tables_from_schema_dict"
   ]
  },
  {
   "cell_type": "code",
   "execution_count": 18,
   "metadata": {
    "tags": []
   },
   "outputs": [],
   "source": [
    "db_id = 'loan_1'"
   ]
  },
  {
   "cell_type": "code",
   "execution_count": 19,
   "metadata": {
    "tags": []
   },
   "outputs": [],
   "source": [
    "def get_schema_dict_by_db_id(list_of_schemas_dicts, db_id):\n",
    "    return [schema_info for schema_info in list_of_schemas_dicts if db_id in schema_info['db_id']][0]"
   ]
  },
  {
   "cell_type": "code",
   "execution_count": 20,
   "metadata": {
    "tags": []
   },
   "outputs": [],
   "source": [
    "#selected_schema = dump_db_json_schema(\"{path}/{db_id}/{db_id}.sqlite\".format(path=db_path, db_id=db_id), db_id)\n",
    "selected_schema = get_schema_dict_by_db_id(schemas_list, db_id)"
   ]
  },
  {
   "cell_type": "code",
   "execution_count": 21,
   "metadata": {
    "tags": []
   },
   "outputs": [],
   "source": [
    "from seq2struct.utils.api_utils import refine_schema_names\n",
    "# If you want to change your schema name, then run this; Otherwise you can skip this.\n",
    "#refine_schema_names(my_schema)"
   ]
  },
  {
   "cell_type": "code",
   "execution_count": 22,
   "metadata": {
    "tags": []
   },
   "outputs": [
    {
     "data": {
      "text/plain": [
       "{'column_names': [[-1, '*'],\n",
       "  [0, 'branch id'],\n",
       "  [0, 'bname'],\n",
       "  [0, 'no of customers'],\n",
       "  [0, 'city'],\n",
       "  [0, 'state'],\n",
       "  [1, 'customer id'],\n",
       "  [1, 'customer name'],\n",
       "  [1, 'account type'],\n",
       "  [1, 'account balance'],\n",
       "  [1, 'number of loans'],\n",
       "  [1, 'credit score'],\n",
       "  [1, 'branch id'],\n",
       "  [1, 'state'],\n",
       "  [2, 'loan id'],\n",
       "  [2, 'loan type'],\n",
       "  [2, 'customer id'],\n",
       "  [2, 'branch id'],\n",
       "  [2, 'amount']],\n",
       " 'column_names_original': [[-1, '*'],\n",
       "  [0, 'branch_ID'],\n",
       "  [0, 'bname'],\n",
       "  [0, 'no_of_customers'],\n",
       "  [0, 'city'],\n",
       "  [0, 'state'],\n",
       "  [1, 'cust_ID'],\n",
       "  [1, 'cust_name'],\n",
       "  [1, 'acc_type'],\n",
       "  [1, 'acc_bal'],\n",
       "  [1, 'no_of_loans'],\n",
       "  [1, 'credit_score'],\n",
       "  [1, 'branch_ID'],\n",
       "  [1, 'state'],\n",
       "  [2, 'loan_ID'],\n",
       "  [2, 'loan_type'],\n",
       "  [2, 'cust_ID'],\n",
       "  [2, 'branch_ID'],\n",
       "  [2, 'amount']],\n",
       " 'column_types': ['text',\n",
       "  'number',\n",
       "  'text',\n",
       "  'number',\n",
       "  'text',\n",
       "  'text',\n",
       "  'text',\n",
       "  'text',\n",
       "  'text',\n",
       "  'number',\n",
       "  'number',\n",
       "  'number',\n",
       "  'number',\n",
       "  'text',\n",
       "  'text',\n",
       "  'text',\n",
       "  'text',\n",
       "  'text',\n",
       "  'number'],\n",
       " 'db_id': 'loan_1',\n",
       " 'foreign_keys': [[12, 1], [17, 1]],\n",
       " 'primary_keys': [1, 6, 14],\n",
       " 'table_names': ['bank', 'customer', 'loan'],\n",
       " 'table_names_original': ['bank', 'customer', 'loan']}"
      ]
     },
     "execution_count": 22,
     "metadata": {},
     "output_type": "execute_result"
    }
   ],
   "source": [
    "selected_schema"
   ]
  },
  {
   "cell_type": "code",
   "execution_count": 23,
   "metadata": {
    "tags": []
   },
   "outputs": [],
   "source": [
    "def create_dfs_from_schema(schema):\n",
    "    # Create DataFrame for table names\n",
    "    table_names_df = pd.DataFrame({\n",
    "        'table_names_original': schema['table_names_original'],\n",
    "        'table_names': schema['table_names']\n",
    "    })\n",
    "\n",
    "    # Map table indices to table names\n",
    "    table_index_to_name = {index: name for index, name in enumerate(schema['table_names'])}\n",
    "    \n",
    "    # Create DataFrame for column names with table names\n",
    "    column_data = []\n",
    "    for col_index, (table_index, col_name) in enumerate(schema['column_names']):\n",
    "        table_name = table_index_to_name[table_index] if table_index != -1 else 'N/A'\n",
    "        is_primary_key = col_index in schema['primary_keys']\n",
    "        column_data.append((col_index, table_name, schema['column_names_original'][col_index][1], col_name, schema['column_types'][col_index], is_primary_key))\n",
    "\n",
    "    column_names_df = pd.DataFrame(column_data, columns=['column_index', 'table_name', 'column_names_original', 'column_names', 'column_types', 'is_primary_key'])\n",
    "    \n",
    "    column_index_to_name = [name for index, name in schema['column_names']]\n",
    "\n",
    "    # Create DataFrame for primary keys\n",
    "    primary_keys_df = pd.DataFrame({\n",
    "    'table_name': list(table_index_to_name.values()),\n",
    "    'primary_key_column_index': schema['primary_keys'],\n",
    "    'primary_key': [column_index_to_name[x] for x in schema['primary_keys']]\n",
    "    })\n",
    "\n",
    "    \n",
    "    column_index_to_id = {index: name for index, name in enumerate(schema['column_names'])}\n",
    "    \n",
    "    foreign_keys_df = pd.DataFrame({\n",
    "    'foreign_key_column': [x[0] for x in schema['foreign_keys']],\n",
    "    'referenced_column': [x[1] for x in schema['foreign_keys']],\n",
    "    'foreign_key_table': [table_index_to_name[column_index_to_id[x[0]][0]] for x in schema['foreign_keys']],\n",
    "    'foreign_key_column_name': [column_index_to_id[x[0]][1] for x in schema['foreign_keys']],\n",
    "    'referenced_table': [table_index_to_name[column_index_to_id[x[1]][0]] for x in schema['foreign_keys']],\n",
    "    'referenced_column_name': [column_index_to_id[x[1]][1] for x in schema['foreign_keys']]\n",
    "    }) \n",
    "\n",
    "    return table_names_df, column_names_df, primary_keys_df, foreign_keys_df"
   ]
  },
  {
   "cell_type": "code",
   "execution_count": 24,
   "metadata": {
    "tags": []
   },
   "outputs": [],
   "source": [
    "table_names_df, column_names_df, primary_keys_df, foreign_keys_df = create_dfs_from_schema(selected_schema)"
   ]
  },
  {
   "cell_type": "code",
   "execution_count": 25,
   "metadata": {
    "tags": []
   },
   "outputs": [
    {
     "data": {
      "text/html": [
       "<div>\n",
       "<style scoped>\n",
       "    .dataframe tbody tr th:only-of-type {\n",
       "        vertical-align: middle;\n",
       "    }\n",
       "\n",
       "    .dataframe tbody tr th {\n",
       "        vertical-align: top;\n",
       "    }\n",
       "\n",
       "    .dataframe thead th {\n",
       "        text-align: right;\n",
       "    }\n",
       "</style>\n",
       "<table border=\"1\" class=\"dataframe\">\n",
       "  <thead>\n",
       "    <tr style=\"text-align: right;\">\n",
       "      <th></th>\n",
       "      <th>table_names_original</th>\n",
       "      <th>table_names</th>\n",
       "    </tr>\n",
       "  </thead>\n",
       "  <tbody>\n",
       "    <tr>\n",
       "      <th>0</th>\n",
       "      <td>bank</td>\n",
       "      <td>bank</td>\n",
       "    </tr>\n",
       "    <tr>\n",
       "      <th>1</th>\n",
       "      <td>customer</td>\n",
       "      <td>customer</td>\n",
       "    </tr>\n",
       "    <tr>\n",
       "      <th>2</th>\n",
       "      <td>loan</td>\n",
       "      <td>loan</td>\n",
       "    </tr>\n",
       "  </tbody>\n",
       "</table>\n",
       "</div>"
      ],
      "text/plain": [
       "  table_names_original table_names\n",
       "0                 bank        bank\n",
       "1             customer    customer\n",
       "2                 loan        loan"
      ]
     },
     "execution_count": 25,
     "metadata": {},
     "output_type": "execute_result"
    }
   ],
   "source": [
    "table_names_df"
   ]
  },
  {
   "cell_type": "code",
   "execution_count": 26,
   "metadata": {
    "tags": []
   },
   "outputs": [
    {
     "data": {
      "text/html": [
       "<div>\n",
       "<style scoped>\n",
       "    .dataframe tbody tr th:only-of-type {\n",
       "        vertical-align: middle;\n",
       "    }\n",
       "\n",
       "    .dataframe tbody tr th {\n",
       "        vertical-align: top;\n",
       "    }\n",
       "\n",
       "    .dataframe thead th {\n",
       "        text-align: right;\n",
       "    }\n",
       "</style>\n",
       "<table border=\"1\" class=\"dataframe\">\n",
       "  <thead>\n",
       "    <tr style=\"text-align: right;\">\n",
       "      <th></th>\n",
       "      <th>column_index</th>\n",
       "      <th>table_name</th>\n",
       "      <th>column_names_original</th>\n",
       "      <th>column_names</th>\n",
       "      <th>column_types</th>\n",
       "      <th>is_primary_key</th>\n",
       "    </tr>\n",
       "  </thead>\n",
       "  <tbody>\n",
       "    <tr>\n",
       "      <th>0</th>\n",
       "      <td>0</td>\n",
       "      <td>N/A</td>\n",
       "      <td>*</td>\n",
       "      <td>*</td>\n",
       "      <td>text</td>\n",
       "      <td>False</td>\n",
       "    </tr>\n",
       "    <tr>\n",
       "      <th>1</th>\n",
       "      <td>1</td>\n",
       "      <td>bank</td>\n",
       "      <td>branch_ID</td>\n",
       "      <td>branch id</td>\n",
       "      <td>number</td>\n",
       "      <td>True</td>\n",
       "    </tr>\n",
       "    <tr>\n",
       "      <th>2</th>\n",
       "      <td>2</td>\n",
       "      <td>bank</td>\n",
       "      <td>bname</td>\n",
       "      <td>bname</td>\n",
       "      <td>text</td>\n",
       "      <td>False</td>\n",
       "    </tr>\n",
       "    <tr>\n",
       "      <th>3</th>\n",
       "      <td>3</td>\n",
       "      <td>bank</td>\n",
       "      <td>no_of_customers</td>\n",
       "      <td>no of customers</td>\n",
       "      <td>number</td>\n",
       "      <td>False</td>\n",
       "    </tr>\n",
       "    <tr>\n",
       "      <th>4</th>\n",
       "      <td>4</td>\n",
       "      <td>bank</td>\n",
       "      <td>city</td>\n",
       "      <td>city</td>\n",
       "      <td>text</td>\n",
       "      <td>False</td>\n",
       "    </tr>\n",
       "    <tr>\n",
       "      <th>5</th>\n",
       "      <td>5</td>\n",
       "      <td>bank</td>\n",
       "      <td>state</td>\n",
       "      <td>state</td>\n",
       "      <td>text</td>\n",
       "      <td>False</td>\n",
       "    </tr>\n",
       "    <tr>\n",
       "      <th>6</th>\n",
       "      <td>6</td>\n",
       "      <td>customer</td>\n",
       "      <td>cust_ID</td>\n",
       "      <td>customer id</td>\n",
       "      <td>text</td>\n",
       "      <td>True</td>\n",
       "    </tr>\n",
       "    <tr>\n",
       "      <th>7</th>\n",
       "      <td>7</td>\n",
       "      <td>customer</td>\n",
       "      <td>cust_name</td>\n",
       "      <td>customer name</td>\n",
       "      <td>text</td>\n",
       "      <td>False</td>\n",
       "    </tr>\n",
       "    <tr>\n",
       "      <th>8</th>\n",
       "      <td>8</td>\n",
       "      <td>customer</td>\n",
       "      <td>acc_type</td>\n",
       "      <td>account type</td>\n",
       "      <td>text</td>\n",
       "      <td>False</td>\n",
       "    </tr>\n",
       "    <tr>\n",
       "      <th>9</th>\n",
       "      <td>9</td>\n",
       "      <td>customer</td>\n",
       "      <td>acc_bal</td>\n",
       "      <td>account balance</td>\n",
       "      <td>number</td>\n",
       "      <td>False</td>\n",
       "    </tr>\n",
       "    <tr>\n",
       "      <th>10</th>\n",
       "      <td>10</td>\n",
       "      <td>customer</td>\n",
       "      <td>no_of_loans</td>\n",
       "      <td>number of loans</td>\n",
       "      <td>number</td>\n",
       "      <td>False</td>\n",
       "    </tr>\n",
       "    <tr>\n",
       "      <th>11</th>\n",
       "      <td>11</td>\n",
       "      <td>customer</td>\n",
       "      <td>credit_score</td>\n",
       "      <td>credit score</td>\n",
       "      <td>number</td>\n",
       "      <td>False</td>\n",
       "    </tr>\n",
       "    <tr>\n",
       "      <th>12</th>\n",
       "      <td>12</td>\n",
       "      <td>customer</td>\n",
       "      <td>branch_ID</td>\n",
       "      <td>branch id</td>\n",
       "      <td>number</td>\n",
       "      <td>False</td>\n",
       "    </tr>\n",
       "    <tr>\n",
       "      <th>13</th>\n",
       "      <td>13</td>\n",
       "      <td>customer</td>\n",
       "      <td>state</td>\n",
       "      <td>state</td>\n",
       "      <td>text</td>\n",
       "      <td>False</td>\n",
       "    </tr>\n",
       "    <tr>\n",
       "      <th>14</th>\n",
       "      <td>14</td>\n",
       "      <td>loan</td>\n",
       "      <td>loan_ID</td>\n",
       "      <td>loan id</td>\n",
       "      <td>text</td>\n",
       "      <td>True</td>\n",
       "    </tr>\n",
       "    <tr>\n",
       "      <th>15</th>\n",
       "      <td>15</td>\n",
       "      <td>loan</td>\n",
       "      <td>loan_type</td>\n",
       "      <td>loan type</td>\n",
       "      <td>text</td>\n",
       "      <td>False</td>\n",
       "    </tr>\n",
       "    <tr>\n",
       "      <th>16</th>\n",
       "      <td>16</td>\n",
       "      <td>loan</td>\n",
       "      <td>cust_ID</td>\n",
       "      <td>customer id</td>\n",
       "      <td>text</td>\n",
       "      <td>False</td>\n",
       "    </tr>\n",
       "    <tr>\n",
       "      <th>17</th>\n",
       "      <td>17</td>\n",
       "      <td>loan</td>\n",
       "      <td>branch_ID</td>\n",
       "      <td>branch id</td>\n",
       "      <td>text</td>\n",
       "      <td>False</td>\n",
       "    </tr>\n",
       "    <tr>\n",
       "      <th>18</th>\n",
       "      <td>18</td>\n",
       "      <td>loan</td>\n",
       "      <td>amount</td>\n",
       "      <td>amount</td>\n",
       "      <td>number</td>\n",
       "      <td>False</td>\n",
       "    </tr>\n",
       "  </tbody>\n",
       "</table>\n",
       "</div>"
      ],
      "text/plain": [
       "    column_index table_name column_names_original     column_names  \\\n",
       "0              0        N/A                     *                *   \n",
       "1              1       bank             branch_ID        branch id   \n",
       "2              2       bank                 bname            bname   \n",
       "3              3       bank       no_of_customers  no of customers   \n",
       "4              4       bank                  city             city   \n",
       "5              5       bank                 state            state   \n",
       "6              6   customer               cust_ID      customer id   \n",
       "7              7   customer             cust_name    customer name   \n",
       "8              8   customer              acc_type     account type   \n",
       "9              9   customer               acc_bal  account balance   \n",
       "10            10   customer           no_of_loans  number of loans   \n",
       "11            11   customer          credit_score     credit score   \n",
       "12            12   customer             branch_ID        branch id   \n",
       "13            13   customer                 state            state   \n",
       "14            14       loan               loan_ID          loan id   \n",
       "15            15       loan             loan_type        loan type   \n",
       "16            16       loan               cust_ID      customer id   \n",
       "17            17       loan             branch_ID        branch id   \n",
       "18            18       loan                amount           amount   \n",
       "\n",
       "   column_types  is_primary_key  \n",
       "0          text           False  \n",
       "1        number            True  \n",
       "2          text           False  \n",
       "3        number           False  \n",
       "4          text           False  \n",
       "5          text           False  \n",
       "6          text            True  \n",
       "7          text           False  \n",
       "8          text           False  \n",
       "9        number           False  \n",
       "10       number           False  \n",
       "11       number           False  \n",
       "12       number           False  \n",
       "13         text           False  \n",
       "14         text            True  \n",
       "15         text           False  \n",
       "16         text           False  \n",
       "17         text           False  \n",
       "18       number           False  "
      ]
     },
     "execution_count": 26,
     "metadata": {},
     "output_type": "execute_result"
    }
   ],
   "source": [
    "column_names_df"
   ]
  },
  {
   "cell_type": "code",
   "execution_count": 27,
   "metadata": {
    "tags": []
   },
   "outputs": [
    {
     "data": {
      "text/html": [
       "<div>\n",
       "<style scoped>\n",
       "    .dataframe tbody tr th:only-of-type {\n",
       "        vertical-align: middle;\n",
       "    }\n",
       "\n",
       "    .dataframe tbody tr th {\n",
       "        vertical-align: top;\n",
       "    }\n",
       "\n",
       "    .dataframe thead th {\n",
       "        text-align: right;\n",
       "    }\n",
       "</style>\n",
       "<table border=\"1\" class=\"dataframe\">\n",
       "  <thead>\n",
       "    <tr style=\"text-align: right;\">\n",
       "      <th></th>\n",
       "      <th>table_name</th>\n",
       "      <th>primary_key_column_index</th>\n",
       "      <th>primary_key</th>\n",
       "    </tr>\n",
       "  </thead>\n",
       "  <tbody>\n",
       "    <tr>\n",
       "      <th>0</th>\n",
       "      <td>bank</td>\n",
       "      <td>1</td>\n",
       "      <td>branch id</td>\n",
       "    </tr>\n",
       "    <tr>\n",
       "      <th>1</th>\n",
       "      <td>customer</td>\n",
       "      <td>6</td>\n",
       "      <td>customer id</td>\n",
       "    </tr>\n",
       "    <tr>\n",
       "      <th>2</th>\n",
       "      <td>loan</td>\n",
       "      <td>14</td>\n",
       "      <td>loan id</td>\n",
       "    </tr>\n",
       "  </tbody>\n",
       "</table>\n",
       "</div>"
      ],
      "text/plain": [
       "  table_name  primary_key_column_index  primary_key\n",
       "0       bank                         1    branch id\n",
       "1   customer                         6  customer id\n",
       "2       loan                        14      loan id"
      ]
     },
     "execution_count": 27,
     "metadata": {},
     "output_type": "execute_result"
    }
   ],
   "source": [
    "primary_keys_df"
   ]
  },
  {
   "cell_type": "code",
   "execution_count": 28,
   "metadata": {
    "tags": []
   },
   "outputs": [
    {
     "data": {
      "text/html": [
       "<div>\n",
       "<style scoped>\n",
       "    .dataframe tbody tr th:only-of-type {\n",
       "        vertical-align: middle;\n",
       "    }\n",
       "\n",
       "    .dataframe tbody tr th {\n",
       "        vertical-align: top;\n",
       "    }\n",
       "\n",
       "    .dataframe thead th {\n",
       "        text-align: right;\n",
       "    }\n",
       "</style>\n",
       "<table border=\"1\" class=\"dataframe\">\n",
       "  <thead>\n",
       "    <tr style=\"text-align: right;\">\n",
       "      <th></th>\n",
       "      <th>foreign_key_column</th>\n",
       "      <th>referenced_column</th>\n",
       "      <th>foreign_key_table</th>\n",
       "      <th>foreign_key_column_name</th>\n",
       "      <th>referenced_table</th>\n",
       "      <th>referenced_column_name</th>\n",
       "    </tr>\n",
       "  </thead>\n",
       "  <tbody>\n",
       "    <tr>\n",
       "      <th>0</th>\n",
       "      <td>12</td>\n",
       "      <td>1</td>\n",
       "      <td>customer</td>\n",
       "      <td>branch id</td>\n",
       "      <td>bank</td>\n",
       "      <td>branch id</td>\n",
       "    </tr>\n",
       "    <tr>\n",
       "      <th>1</th>\n",
       "      <td>17</td>\n",
       "      <td>1</td>\n",
       "      <td>loan</td>\n",
       "      <td>branch id</td>\n",
       "      <td>bank</td>\n",
       "      <td>branch id</td>\n",
       "    </tr>\n",
       "  </tbody>\n",
       "</table>\n",
       "</div>"
      ],
      "text/plain": [
       "   foreign_key_column  referenced_column foreign_key_table  \\\n",
       "0                  12                  1          customer   \n",
       "1                  17                  1              loan   \n",
       "\n",
       "  foreign_key_column_name referenced_table referenced_column_name  \n",
       "0               branch id             bank              branch id  \n",
       "1               branch id             bank              branch id  "
      ]
     },
     "execution_count": 28,
     "metadata": {},
     "output_type": "execute_result"
    }
   ],
   "source": [
    "foreign_keys_df"
   ]
  },
  {
   "cell_type": "code",
   "execution_count": 29,
   "metadata": {
    "tags": []
   },
   "outputs": [],
   "source": [
    "schema, eval_foreign_key_maps = load_tables_from_schema_dict(selected_schema)\n",
    "#print(schema.keys())\n",
    "#print(eval_foreign_key_maps) "
   ]
  },
  {
   "cell_type": "code",
   "execution_count": 30,
   "metadata": {
    "tags": []
   },
   "outputs": [],
   "source": [
    "dataset = registry.construct('dataset_infer', {\n",
    "   \"name\": \"spider\", \"schemas\": schema, \"eval_foreign_key_maps\": eval_foreign_key_maps, \n",
    "    \"db_path\": db_path\n",
    "})"
   ]
  },
  {
   "cell_type": "code",
   "execution_count": 31,
   "metadata": {
    "tags": []
   },
   "outputs": [],
   "source": [
    "for _, schema_info in dataset.schemas.items():\n",
    "    model.preproc.enc_preproc._preprocess_schema(schema_info)"
   ]
  },
  {
   "cell_type": "code",
   "execution_count": 32,
   "metadata": {
    "tags": []
   },
   "outputs": [],
   "source": [
    "spider_schema = dataset.schemas[db_id]"
   ]
  },
  {
   "cell_type": "code",
   "execution_count": 33,
   "metadata": {
    "tags": []
   },
   "outputs": [],
   "source": [
    "def infer(question):\n",
    "    data_item = SpiderItem(\n",
    "            text=None,  # intentionally None -- should be ignored when the tokenizer is set correctly\n",
    "            code=None,\n",
    "            schema=spider_schema,\n",
    "            orig_schema=spider_schema.orig,\n",
    "            orig={\"question\": question}\n",
    "        )\n",
    "    model.preproc.clear_items()\n",
    "    enc_input = model.preproc.enc_preproc.preprocess_item(data_item, None)\n",
    "    preproc_data = enc_input, None\n",
    "    with torch.no_grad():\n",
    "        output = inferer._infer_one(model, data_item, preproc_data, beam_size=1, use_heuristic=True)\n",
    "    return output[0][\"inferred_code\"]"
   ]
  },
  {
   "cell_type": "code",
   "execution_count": 34,
   "metadata": {
    "tags": []
   },
   "outputs": [
    {
     "name": "stdout",
     "output_type": "stream",
     "text": [
      "SELECT loan.branch_ID FROM bank JOIN loan GROUP BY loan.branch_ID ORDER BY Count(*) Desc LIMIT 1\n"
     ]
    }
   ],
   "source": [
    "code = infer(\"Which branch has given the highest number loans?\")\n",
    "print(code)"
   ]
  },
  {
   "cell_type": "code",
   "execution_count": null,
   "metadata": {},
   "outputs": [],
   "source": []
  }
 ],
 "metadata": {
  "kernelspec": {
   "display_name": "mtext2sql:Python",
   "language": "python",
   "name": "conda-env-mtext2sql-py"
  },
  "language_info": {
   "codemirror_mode": {
    "name": "ipython",
    "version": 3
   },
   "file_extension": ".py",
   "mimetype": "text/x-python",
   "name": "python",
   "nbconvert_exporter": "python",
   "pygments_lexer": "ipython3",
   "version": "3.7.12"
  }
 },
 "nbformat": 4,
 "nbformat_minor": 4
}
