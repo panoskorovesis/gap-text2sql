{
 "cells": [
  {
   "cell_type": "code",
   "execution_count": 1,
   "metadata": {
    "tags": []
   },
   "outputs": [],
   "source": [
    "import json\n",
    "import os\n",
    "import _jsonnet\n",
    "import os\n",
    "import warnings\n",
    "import pandas as pd\n",
    "warnings.filterwarnings('ignore')"
   ]
  },
  {
   "cell_type": "code",
   "execution_count": 2,
   "metadata": {
    "tags": []
   },
   "outputs": [],
   "source": [
    "from seq2struct.commands.infer import Inferer\n",
    "from seq2struct.datasets.spider import SpiderItem\n",
    "from seq2struct.utils import registry"
   ]
  },
  {
   "cell_type": "code",
   "execution_count": 3,
   "metadata": {
    "tags": []
   },
   "outputs": [],
   "source": [
    "import torch"
   ]
  },
  {
   "cell_type": "code",
   "execution_count": 149,
   "metadata": {
    "tags": []
   },
   "outputs": [],
   "source": [
    "from IPython.display import Markdown, display\n",
    "def printmd(string):\n",
    "    display(Markdown(string))"
   ]
  },
  {
   "cell_type": "code",
   "execution_count": 4,
   "metadata": {
    "tags": []
   },
   "outputs": [],
   "source": [
    "# Define a function to load JSON data from a file\n",
    "def load_json(filename):\n",
    "    # Open the specified file in read mode, specifying utf-8 encoding\n",
    "    with open(filename, 'r', encoding='utf-8') as file:\n",
    "        # Load the JSON data from the file into a Python dictionary\n",
    "        data = json.load(file)\n",
    "    # Return the loaded data\n",
    "    return data"
   ]
  },
  {
   "cell_type": "code",
   "execution_count": 5,
   "metadata": {
    "tags": []
   },
   "outputs": [],
   "source": [
    "def createPath(lr, bert_lr, end_lr, bs, att):\n",
    "    lr_s = '%0.1e' % lr\n",
    "    bert_lr_s = '%0.1e' % bert_lr\n",
    "    end_lr_s = '0e0' if end_lr == 0 else '%0.1e' % end_lr\n",
    "\n",
    "    base_bert_enc_size = 768\n",
    "    enc_size = base_bert_enc_size\n",
    "\n",
    "    model_name = '/bs=%(bs)d,lr=%(lr)s,bert_lr=%(bert_lr)s,end_lr=%(end_lr)s,att=%(att)d' % {\n",
    "        'bs': bs,\n",
    "        'lr': lr_s,\n",
    "        'bert_lr': bert_lr_s,\n",
    "        'end_lr': end_lr_s,\n",
    "        'att': att\n",
    "    }\n",
    "    return model_name"
   ]
  },
  {
   "cell_type": "code",
   "execution_count": 6,
   "metadata": {
    "tags": []
   },
   "outputs": [],
   "source": [
    "# exp_config = json.loads(_jsonnet.evaluate_file(\"experiments/spider-configs/gap-run.jsonnet\"))\n",
    "exp_config = json.loads(_jsonnet.evaluate_file(\"experiments/spider-configs/spider-mT5-base-en-train_en_eval.jsonnet\"))"
   ]
  },
  {
   "cell_type": "code",
   "execution_count": 7,
   "metadata": {
    "tags": []
   },
   "outputs": [],
   "source": [
    "model_config_path = exp_config[\"model_config\"]\n",
    "model_config_args = exp_config.get(\"model_config_args\")\n",
    "\n",
    "#print(model_config_path)\n",
    "#print(model_config_args)"
   ]
  },
  {
   "cell_type": "code",
   "execution_count": 8,
   "metadata": {
    "tags": []
   },
   "outputs": [],
   "source": [
    "infer_config = json.loads(\n",
    "    _jsonnet.evaluate_file(\n",
    "        model_config_path, \n",
    "        tla_codes={'args': json.dumps(model_config_args)}))\n",
    "\n",
    "#print(infer_config['model']['encoder_preproc'])"
   ]
  },
  {
   "cell_type": "code",
   "execution_count": 9,
   "metadata": {
    "tags": []
   },
   "outputs": [],
   "source": [
    "db_path = infer_config[\"model\"][\"encoder_preproc\"][\"db_path\"]\n",
    "\n",
    "db_path_for_json = infer_config['data']['val']['tables_paths'][0]"
   ]
  },
  {
   "cell_type": "code",
   "execution_count": 10,
   "metadata": {
    "tags": []
   },
   "outputs": [],
   "source": [
    "#db_path_for_json"
   ]
  },
  {
   "cell_type": "code",
   "execution_count": 11,
   "metadata": {
    "tags": []
   },
   "outputs": [
    {
     "name": "stderr",
     "output_type": "stream",
     "text": [
      "WARNING <class 'seq2struct.models.enc_dec.EncDecModel.Preproc'>: superfluous {'name': 'EncDec'}\n"
     ]
    },
    {
     "name": "stdout",
     "output_type": "stream",
     "text": [
      "SpiderEncoderT5Preproc Model: google/mt5-base\n",
      "No GAP - Generation-Augmented Pre-Training\n",
      "T5 load Model: google/mt5-base\n"
     ]
    }
   ],
   "source": [
    "inferer = Inferer(infer_config)"
   ]
  },
  {
   "cell_type": "code",
   "execution_count": 12,
   "metadata": {
    "tags": []
   },
   "outputs": [],
   "source": [
    "# model_dir = exp_config[\"logdir\"] + \"/bs=12,lr=1.0e-04,bert_lr=1.0e-05,end_lr=0e0,att=1\"\n",
    "# checkpoint_step = exp_config[\"eval_steps\"][0]\n",
    "\n",
    "# '/home/studio-lab-user/gr-spider/Database-Systems/gap-text2sql/mrat-sql-gap/logdir/mT5-base-en-train/bs=4,lr=1.0e-04,bert_lr=1.0e-05,end_lr=0e0,att=1/val_loss.txt'\n",
    "logdir_path = exp_config[\"logdir\"]\n",
    "path_save = createPath(model_config_args['lr'], model_config_args['bert_lr'], model_config_args['end_lr'], model_config_args['bs'], model_config_args['att'])\n",
    "model_dir = logdir_path + path_save\n",
    "\n",
    "checkpoint_step = exp_config[\"eval_steps\"][0]"
   ]
  },
  {
   "cell_type": "code",
   "execution_count": 13,
   "metadata": {
    "tags": []
   },
   "outputs": [
    {
     "name": "stderr",
     "output_type": "stream",
     "text": [
      "WARNING <class 'seq2struct.models.enc_dec.EncDecModel'>: superfluous {'decoder_preproc': {'grammar': {'clause_order': None, 'end_with_from': True, 'factorize_sketch': 2, 'include_literals': False, 'infer_from_conditions': True, 'name': 'spider', 'output_from': True, 'use_table_pointer': True}, 'save_path': 'data/spider-en/mT5-base-nl2code-1115,output_from=true,fs=2,emb=t5,cvlink', 'use_seq_elem_rules': True}, 'encoder_preproc': {'compute_cv_link': True, 'compute_sc_link': True, 'db_path': 'data/spider-en/database', 'fix_issue_16_primary_keys': True, 'include_table_name_in_column': False, 'pretrained_checkpoint': 'models/mt5-base/pretrained_checkpoint/pytorch_model.bin', 'save_path': 'data/spider-en/mT5-base-nl2code-1115,output_from=true,fs=2,emb=t5,cvlink', 't5_version': 'google/mt5-base'}}\n"
     ]
    },
    {
     "name": "stdout",
     "output_type": "stream",
     "text": [
      "SpiderEncoderT5 Model: google/mt5-base\n",
      "No GAP - Generation-Augmented Pre-Training\n"
     ]
    },
    {
     "name": "stderr",
     "output_type": "stream",
     "text": [
      "Some weights of the model checkpoint at google/mt5-base were not used when initializing MT5Model: ['lm_head.weight']\n",
      "- This IS expected if you are initializing MT5Model from the checkpoint of a model trained on another task or with another architecture (e.g. initializing a BertForSequenceClassification model from a BertForPreTraining model).\n",
      "- This IS NOT expected if you are initializing MT5Model from the checkpoint of a model that you expect to be exactly identical (initializing a BertForSequenceClassification model from a BertForSequenceClassification model).\n"
     ]
    },
    {
     "name": "stdout",
     "output_type": "stream",
     "text": [
      "Parameter containing:\n",
      "tensor([[ 1.7500e+00, -1.6719e+00,  2.4062e+00,  ...,  6.9580e-03,\n",
      "         -9.8828e-01, -4.6875e-01],\n",
      "        [ 8.5625e+00,  5.5625e+00, -1.7109e+00,  ...,  7.7812e+00,\n",
      "         -5.2812e+00, -3.2188e+00],\n",
      "        [ 6.8750e-01, -4.5312e-01,  5.7812e-01,  ...,  7.3828e-01,\n",
      "         -3.0078e-01,  2.0312e-01],\n",
      "        ...,\n",
      "        [ 8.0859e-01, -1.2812e+00,  2.2344e+00,  ...,  8.0469e-01,\n",
      "          7.7344e-01,  1.8672e+00],\n",
      "        [ 2.9688e-01, -1.4453e+00,  9.6484e-01,  ...,  8.9453e-01,\n",
      "          2.3906e+00, -4.1797e-01],\n",
      "        [ 1.0469e+00, -2.7930e-01,  9.7266e-01,  ..., -3.1250e+00,\n",
      "          1.2344e+00, -7.6562e-01]], requires_grad=True)\n",
      "Parameter containing:\n",
      "tensor([[ 1.7500e+00, -1.6719e+00,  2.4062e+00,  ...,  6.9580e-03,\n",
      "         -9.8828e-01, -4.6875e-01],\n",
      "        [ 8.5625e+00,  5.5625e+00, -1.7109e+00,  ...,  7.7812e+00,\n",
      "         -5.2812e+00, -3.2188e+00],\n",
      "        [ 6.8750e-01, -4.5312e-01,  5.7812e-01,  ...,  7.3828e-01,\n",
      "         -3.0078e-01,  2.0312e-01],\n",
      "        ...,\n",
      "        [-6.6895e-02,  1.0010e-01,  4.6289e-01,  ...,  2.5469e+00,\n",
      "          2.7539e-01, -9.6680e-02],\n",
      "        [ 1.3770e-01, -6.9531e-01,  6.4062e-01,  ..., -8.2812e-01,\n",
      "          9.5215e-02,  7.6172e-01],\n",
      "        [-1.6328e+00,  4.5312e-01,  5.8350e-02,  ...,  1.1250e+00,\n",
      "          3.8672e-01, -8.1250e-01]], requires_grad=True)\n",
      "Loading model from logdir/mT5-base-en-train/bs=4,lr=1.0e-04,bert_lr=1.0e-05,end_lr=0e0,att=1/model_checkpoint-00008460\n"
     ]
    }
   ],
   "source": [
    "model = inferer.load_model(model_dir, checkpoint_step)"
   ]
  },
  {
   "cell_type": "code",
   "execution_count": 14,
   "metadata": {
    "tags": []
   },
   "outputs": [],
   "source": [
    "from seq2struct.datasets.spider_lib.preprocess.get_tables import dump_db_json_schema\n",
    "from seq2struct.datasets.spider import load_tables_from_schema_dict"
   ]
  },
  {
   "cell_type": "code",
   "execution_count": 15,
   "metadata": {
    "tags": []
   },
   "outputs": [],
   "source": [
    "def get_schema_dict_by_db_id(list_of_schemas_dicts, db_id):\n",
    "    return [schema_info for schema_info in list_of_schemas_dicts if db_id in schema_info['db_id']][0]"
   ]
  },
  {
   "cell_type": "code",
   "execution_count": 66,
   "metadata": {
    "tags": []
   },
   "outputs": [],
   "source": [
    "def create_dfs_from_schema(schema):\n",
    "    # Create DataFrame for table names\n",
    "    table_names_df = pd.DataFrame({\n",
    "        'table_names_original': schema['table_names_original'],\n",
    "        'table_names': schema['table_names']\n",
    "    })\n",
    "\n",
    "    # Map table indices to table names\n",
    "    table_index_to_name = {index: name for index, name in enumerate(schema['table_names'])}\n",
    "    \n",
    "    # Create DataFrame for column names with table names\n",
    "    column_data = []\n",
    "    for col_index, (table_index, col_name) in enumerate(schema['column_names']):\n",
    "        table_name = table_index_to_name[table_index] if table_index != -1 else 'N/A'\n",
    "        is_primary_key = col_index in schema['primary_keys']\n",
    "        column_data.append((col_index, table_name, schema['column_names_original'][col_index][1], col_name, schema['column_types'][col_index], is_primary_key))\n",
    "\n",
    "    column_names_df = pd.DataFrame(column_data, columns=['column_index', 'table_name', 'column_names_original', 'column_names', 'column_types', 'is_primary_key'])\n",
    "    \n",
    "    column_index_to_name = [name for index, name in schema['column_names']]\n",
    "\n",
    "    # Create DataFrame for primary keys\n",
    "    primary_keys_df = pd.DataFrame({\n",
    "    'table_name': [table_index_to_name[schema['column_names'][x][0]] for x in schema['primary_keys']],\n",
    "    'primary_key_column_index': schema['primary_keys'],\n",
    "    'primary_key': [column_index_to_name[x] for x in schema['primary_keys']]\n",
    "    })\n",
    "\n",
    "    \n",
    "    column_index_to_id = {index: name for index, name in enumerate(schema['column_names'])}\n",
    "    \n",
    "    foreign_keys_df = pd.DataFrame({\n",
    "    'foreign_key_column': [x[0] for x in schema['foreign_keys']],\n",
    "    'referenced_column': [x[1] for x in schema['foreign_keys']],\n",
    "    'foreign_key_table': [table_index_to_name[column_index_to_id[x[0]][0]] for x in schema['foreign_keys']],\n",
    "    'foreign_key_column_name': [column_index_to_id[x[0]][1] for x in schema['foreign_keys']],\n",
    "    'referenced_table': [table_index_to_name[column_index_to_id[x[1]][0]] for x in schema['foreign_keys']],\n",
    "    'referenced_column_name': [column_index_to_id[x[1]][1] for x in schema['foreign_keys']]\n",
    "    }) \n",
    "\n",
    "    return table_names_df, column_names_df, primary_keys_df, foreign_keys_df"
   ]
  },
  {
   "cell_type": "code",
   "execution_count": 24,
   "metadata": {
    "tags": []
   },
   "outputs": [],
   "source": [
    "def infer(question, spider_schema):\n",
    "    data_item = SpiderItem(\n",
    "            text=None,  # intentionally None -- should be ignored when the tokenizer is set correctly\n",
    "            code=None,\n",
    "            schema=spider_schema,\n",
    "            orig_schema=spider_schema.orig,\n",
    "            orig={\"question\": question}\n",
    "        )\n",
    "    model.preproc.clear_items()\n",
    "    enc_input = model.preproc.enc_preproc.preprocess_item(data_item, None)\n",
    "    preproc_data = enc_input, None\n",
    "    with torch.no_grad():\n",
    "        output = inferer._infer_one(model, data_item, preproc_data, beam_size=1, use_heuristic=True)\n",
    "    return output[0][\"inferred_code\"]"
   ]
  },
  {
   "cell_type": "code",
   "execution_count": 18,
   "metadata": {
    "tags": []
   },
   "outputs": [],
   "source": [
    "schemas = os.listdir(db_path)\n",
    "\n",
    "schemas_list = load_json(db_path_for_json)"
   ]
  },
  {
   "cell_type": "code",
   "execution_count": 19,
   "metadata": {
    "tags": []
   },
   "outputs": [
    {
     "name": "stdout",
     "output_type": "stream",
     "text": [
      "You can choose a database from the below:\n",
      "school_player, network_1, program_share, solvency_ii, employee_hire_evaluation, inn_1, game_1, scholar, employee_hire_evaluation, gymnast, game_injury, protein_institute, film_rank, flight_2, allergy_1, product_catalog, cre_Theme_park, cre_Doc_Control_Systems, chinook_1, club_1, academic, gymnast, club_1, real_estate_properties, hr_1, local_govt_in_alabama, department_store, swimming, book_2, restaurant_1, driving_school, manufactory_1, scientist_1, shop_membership, epinions_1, customers_card_transactions, entrepreneur, baseball_1, customers_campaigns_ecommerce, wrestler, election, store_product, network_2, chinook_1, icfp_1, game_1, gymnast, cre_Docs_and_Epenses, school_bus, concert_singer, local_govt_mdm, cre_Doc_Template_Mgt, baseball_1, election_representative, customers_campaigns_ecommerce, employee_hire_evaluation, csu_1, behavior_monitoring, storm_record, restaurants, customers_campaigns_ecommerce, college_1, dog_kennels, customers_campaigns_ecommerce, allergy_1, world_1, school_finance, loan_1, workshop_paper, shop_membership, restaurants, sakila_1, cre_Doc_Template_Mgt, browser_web, book_2, flight_company, bike_1, battle_death, theme_gallery, car_1, pets_1, store_1, concert_singer, architecture, products_gen_characteristics, candidate_poll, storm_record, customers_and_products_contacts, restaurant_1, epinions_1, coffee_shop, swimming, wedding, ship_1, cre_Doc_Control_Systems, university_basketball, entrepreneur, tracking_orders, inn_1, academic, battle_death, voter_1, pilot_record, company_office, protein_institute, department_store, election, roller_coaster, customers_campaigns_ecommerce, shop_membership, swimming, student_assessment, program_share, election_representative, device, inn_1, customers_and_products_contacts, scholar, driving_school, hr_1, debate, college_3, pets_1, coffee_shop, railway, entertainment_awards, assets_maintenance, cre_Docs_and_Epenses, university_basketball, tracking_orders, aircraft, allergy_1, products_gen_characteristics, phone_market, train_station, soccer_1, flight_2, cre_Docs_and_Epenses, school_bus, driving_school, imdb, scholar, entrepreneur, products_for_hire, museum_visit, game_1, protein_institute, flight_company, voter_1, local_govt_in_alabama, student_assessment, railway, cre_Doc_Template_Mgt, pilot_record, car_1, university_basketball, csu_1, tracking_grants_for_research, tracking_share_transactions, dog_kennels, local_govt_mdm, ship_1, baseball_1, voter_1, behavior_monitoring, music_4\n"
     ]
    }
   ],
   "source": [
    "import random\n",
    "N=len(schemas)\n",
    "\n",
    "selected_schemas = random.choices(schemas, k=N)\n",
    "print('You can choose a database from the below:')\n",
    "print(', '.join(selected_schemas))"
   ]
  },
  {
   "cell_type": "code",
   "execution_count": 125,
   "metadata": {
    "tags": []
   },
   "outputs": [],
   "source": [
    "db_id = 'pilot_record'"
   ]
  },
  {
   "cell_type": "code",
   "execution_count": 126,
   "metadata": {
    "tags": []
   },
   "outputs": [],
   "source": [
    "#selected_schema = dump_db_json_schema(\"{path}/{db_id}/{db_id}.sqlite\".format(path=db_path, db_id=db_id), db_id)\n",
    "selected_schema = get_schema_dict_by_db_id(schemas_list, db_id)"
   ]
  },
  {
   "cell_type": "code",
   "execution_count": 127,
   "metadata": {
    "tags": []
   },
   "outputs": [],
   "source": [
    "#from seq2struct.utils.api_utils import refine_schema_names\n",
    "# If you want to change your schema name, then run this; Otherwise you can skip this.\n",
    "#refine_schema_names(my_schema)"
   ]
  },
  {
   "cell_type": "code",
   "execution_count": 128,
   "metadata": {
    "tags": []
   },
   "outputs": [
    {
     "data": {
      "text/plain": [
       "{'column_names': [[-1, '*'],\n",
       "  [0, 'aircraft id'],\n",
       "  [0, 'order year'],\n",
       "  [0, 'manufacturer'],\n",
       "  [0, 'model'],\n",
       "  [0, 'fleet series'],\n",
       "  [0, 'powertrain'],\n",
       "  [0, 'fuel propulsion'],\n",
       "  [1, 'pilot id'],\n",
       "  [1, 'pilot name'],\n",
       "  [1, 'rank'],\n",
       "  [1, 'age'],\n",
       "  [1, 'nationality'],\n",
       "  [1, 'position'],\n",
       "  [1, 'join year'],\n",
       "  [1, 'team'],\n",
       "  [2, 'record id'],\n",
       "  [2, 'pilot id'],\n",
       "  [2, 'aircraft id'],\n",
       "  [2, 'date']],\n",
       " 'column_names_original': [[-1, '*'],\n",
       "  [0, 'Aircraft_ID'],\n",
       "  [0, 'Order_Year'],\n",
       "  [0, 'Manufacturer'],\n",
       "  [0, 'Model'],\n",
       "  [0, 'Fleet_Series'],\n",
       "  [0, 'Powertrain'],\n",
       "  [0, 'Fuel_Propulsion'],\n",
       "  [1, 'Pilot_ID'],\n",
       "  [1, 'Pilot_name'],\n",
       "  [1, 'Rank'],\n",
       "  [1, 'Age'],\n",
       "  [1, 'Nationality'],\n",
       "  [1, 'Position'],\n",
       "  [1, 'Join_Year'],\n",
       "  [1, 'Team'],\n",
       "  [2, 'Record_ID'],\n",
       "  [2, 'Pilot_ID'],\n",
       "  [2, 'Aircraft_ID'],\n",
       "  [2, 'Date']],\n",
       " 'column_types': ['text',\n",
       "  'number',\n",
       "  'number',\n",
       "  'text',\n",
       "  'text',\n",
       "  'text',\n",
       "  'text',\n",
       "  'text',\n",
       "  'number',\n",
       "  'text',\n",
       "  'number',\n",
       "  'number',\n",
       "  'text',\n",
       "  'text',\n",
       "  'number',\n",
       "  'text',\n",
       "  'number',\n",
       "  'number',\n",
       "  'number',\n",
       "  'text'],\n",
       " 'db_id': 'pilot_record',\n",
       " 'foreign_keys': [[18, 1], [17, 8]],\n",
       " 'primary_keys': [1, 8, 17],\n",
       " 'table_names': ['aircraft', 'pilot', 'pilot record'],\n",
       " 'table_names_original': ['aircraft', 'pilot', 'pilot_record']}"
      ]
     },
     "execution_count": 128,
     "metadata": {},
     "output_type": "execute_result"
    }
   ],
   "source": [
    "selected_schema"
   ]
  },
  {
   "cell_type": "code",
   "execution_count": 129,
   "metadata": {
    "tags": []
   },
   "outputs": [],
   "source": [
    "table_names_df, column_names_df, primary_keys_df, foreign_keys_df = create_dfs_from_schema(selected_schema)"
   ]
  },
  {
   "cell_type": "code",
   "execution_count": 130,
   "metadata": {
    "tags": []
   },
   "outputs": [
    {
     "data": {
      "text/html": [
       "<div>\n",
       "<style scoped>\n",
       "    .dataframe tbody tr th:only-of-type {\n",
       "        vertical-align: middle;\n",
       "    }\n",
       "\n",
       "    .dataframe tbody tr th {\n",
       "        vertical-align: top;\n",
       "    }\n",
       "\n",
       "    .dataframe thead th {\n",
       "        text-align: right;\n",
       "    }\n",
       "</style>\n",
       "<table border=\"1\" class=\"dataframe\">\n",
       "  <thead>\n",
       "    <tr style=\"text-align: right;\">\n",
       "      <th></th>\n",
       "      <th>table_names_original</th>\n",
       "      <th>table_names</th>\n",
       "    </tr>\n",
       "  </thead>\n",
       "  <tbody>\n",
       "    <tr>\n",
       "      <th>0</th>\n",
       "      <td>aircraft</td>\n",
       "      <td>aircraft</td>\n",
       "    </tr>\n",
       "    <tr>\n",
       "      <th>1</th>\n",
       "      <td>pilot</td>\n",
       "      <td>pilot</td>\n",
       "    </tr>\n",
       "    <tr>\n",
       "      <th>2</th>\n",
       "      <td>pilot_record</td>\n",
       "      <td>pilot record</td>\n",
       "    </tr>\n",
       "  </tbody>\n",
       "</table>\n",
       "</div>"
      ],
      "text/plain": [
       "  table_names_original   table_names\n",
       "0             aircraft      aircraft\n",
       "1                pilot         pilot\n",
       "2         pilot_record  pilot record"
      ]
     },
     "execution_count": 130,
     "metadata": {},
     "output_type": "execute_result"
    }
   ],
   "source": [
    "table_names_df"
   ]
  },
  {
   "cell_type": "code",
   "execution_count": 131,
   "metadata": {
    "tags": []
   },
   "outputs": [
    {
     "data": {
      "text/html": [
       "<div>\n",
       "<style scoped>\n",
       "    .dataframe tbody tr th:only-of-type {\n",
       "        vertical-align: middle;\n",
       "    }\n",
       "\n",
       "    .dataframe tbody tr th {\n",
       "        vertical-align: top;\n",
       "    }\n",
       "\n",
       "    .dataframe thead th {\n",
       "        text-align: right;\n",
       "    }\n",
       "</style>\n",
       "<table border=\"1\" class=\"dataframe\">\n",
       "  <thead>\n",
       "    <tr style=\"text-align: right;\">\n",
       "      <th></th>\n",
       "      <th>column_index</th>\n",
       "      <th>table_name</th>\n",
       "      <th>column_names_original</th>\n",
       "      <th>column_names</th>\n",
       "      <th>column_types</th>\n",
       "      <th>is_primary_key</th>\n",
       "    </tr>\n",
       "  </thead>\n",
       "  <tbody>\n",
       "    <tr>\n",
       "      <th>0</th>\n",
       "      <td>0</td>\n",
       "      <td>N/A</td>\n",
       "      <td>*</td>\n",
       "      <td>*</td>\n",
       "      <td>text</td>\n",
       "      <td>False</td>\n",
       "    </tr>\n",
       "    <tr>\n",
       "      <th>1</th>\n",
       "      <td>1</td>\n",
       "      <td>aircraft</td>\n",
       "      <td>Aircraft_ID</td>\n",
       "      <td>aircraft id</td>\n",
       "      <td>number</td>\n",
       "      <td>True</td>\n",
       "    </tr>\n",
       "    <tr>\n",
       "      <th>2</th>\n",
       "      <td>2</td>\n",
       "      <td>aircraft</td>\n",
       "      <td>Order_Year</td>\n",
       "      <td>order year</td>\n",
       "      <td>number</td>\n",
       "      <td>False</td>\n",
       "    </tr>\n",
       "    <tr>\n",
       "      <th>3</th>\n",
       "      <td>3</td>\n",
       "      <td>aircraft</td>\n",
       "      <td>Manufacturer</td>\n",
       "      <td>manufacturer</td>\n",
       "      <td>text</td>\n",
       "      <td>False</td>\n",
       "    </tr>\n",
       "    <tr>\n",
       "      <th>4</th>\n",
       "      <td>4</td>\n",
       "      <td>aircraft</td>\n",
       "      <td>Model</td>\n",
       "      <td>model</td>\n",
       "      <td>text</td>\n",
       "      <td>False</td>\n",
       "    </tr>\n",
       "    <tr>\n",
       "      <th>5</th>\n",
       "      <td>5</td>\n",
       "      <td>aircraft</td>\n",
       "      <td>Fleet_Series</td>\n",
       "      <td>fleet series</td>\n",
       "      <td>text</td>\n",
       "      <td>False</td>\n",
       "    </tr>\n",
       "    <tr>\n",
       "      <th>6</th>\n",
       "      <td>6</td>\n",
       "      <td>aircraft</td>\n",
       "      <td>Powertrain</td>\n",
       "      <td>powertrain</td>\n",
       "      <td>text</td>\n",
       "      <td>False</td>\n",
       "    </tr>\n",
       "    <tr>\n",
       "      <th>7</th>\n",
       "      <td>7</td>\n",
       "      <td>aircraft</td>\n",
       "      <td>Fuel_Propulsion</td>\n",
       "      <td>fuel propulsion</td>\n",
       "      <td>text</td>\n",
       "      <td>False</td>\n",
       "    </tr>\n",
       "    <tr>\n",
       "      <th>8</th>\n",
       "      <td>8</td>\n",
       "      <td>pilot</td>\n",
       "      <td>Pilot_ID</td>\n",
       "      <td>pilot id</td>\n",
       "      <td>number</td>\n",
       "      <td>True</td>\n",
       "    </tr>\n",
       "    <tr>\n",
       "      <th>9</th>\n",
       "      <td>9</td>\n",
       "      <td>pilot</td>\n",
       "      <td>Pilot_name</td>\n",
       "      <td>pilot name</td>\n",
       "      <td>text</td>\n",
       "      <td>False</td>\n",
       "    </tr>\n",
       "    <tr>\n",
       "      <th>10</th>\n",
       "      <td>10</td>\n",
       "      <td>pilot</td>\n",
       "      <td>Rank</td>\n",
       "      <td>rank</td>\n",
       "      <td>number</td>\n",
       "      <td>False</td>\n",
       "    </tr>\n",
       "    <tr>\n",
       "      <th>11</th>\n",
       "      <td>11</td>\n",
       "      <td>pilot</td>\n",
       "      <td>Age</td>\n",
       "      <td>age</td>\n",
       "      <td>number</td>\n",
       "      <td>False</td>\n",
       "    </tr>\n",
       "    <tr>\n",
       "      <th>12</th>\n",
       "      <td>12</td>\n",
       "      <td>pilot</td>\n",
       "      <td>Nationality</td>\n",
       "      <td>nationality</td>\n",
       "      <td>text</td>\n",
       "      <td>False</td>\n",
       "    </tr>\n",
       "    <tr>\n",
       "      <th>13</th>\n",
       "      <td>13</td>\n",
       "      <td>pilot</td>\n",
       "      <td>Position</td>\n",
       "      <td>position</td>\n",
       "      <td>text</td>\n",
       "      <td>False</td>\n",
       "    </tr>\n",
       "    <tr>\n",
       "      <th>14</th>\n",
       "      <td>14</td>\n",
       "      <td>pilot</td>\n",
       "      <td>Join_Year</td>\n",
       "      <td>join year</td>\n",
       "      <td>number</td>\n",
       "      <td>False</td>\n",
       "    </tr>\n",
       "    <tr>\n",
       "      <th>15</th>\n",
       "      <td>15</td>\n",
       "      <td>pilot</td>\n",
       "      <td>Team</td>\n",
       "      <td>team</td>\n",
       "      <td>text</td>\n",
       "      <td>False</td>\n",
       "    </tr>\n",
       "    <tr>\n",
       "      <th>16</th>\n",
       "      <td>16</td>\n",
       "      <td>pilot record</td>\n",
       "      <td>Record_ID</td>\n",
       "      <td>record id</td>\n",
       "      <td>number</td>\n",
       "      <td>False</td>\n",
       "    </tr>\n",
       "    <tr>\n",
       "      <th>17</th>\n",
       "      <td>17</td>\n",
       "      <td>pilot record</td>\n",
       "      <td>Pilot_ID</td>\n",
       "      <td>pilot id</td>\n",
       "      <td>number</td>\n",
       "      <td>True</td>\n",
       "    </tr>\n",
       "    <tr>\n",
       "      <th>18</th>\n",
       "      <td>18</td>\n",
       "      <td>pilot record</td>\n",
       "      <td>Aircraft_ID</td>\n",
       "      <td>aircraft id</td>\n",
       "      <td>number</td>\n",
       "      <td>False</td>\n",
       "    </tr>\n",
       "    <tr>\n",
       "      <th>19</th>\n",
       "      <td>19</td>\n",
       "      <td>pilot record</td>\n",
       "      <td>Date</td>\n",
       "      <td>date</td>\n",
       "      <td>text</td>\n",
       "      <td>False</td>\n",
       "    </tr>\n",
       "  </tbody>\n",
       "</table>\n",
       "</div>"
      ],
      "text/plain": [
       "    column_index    table_name column_names_original     column_names  \\\n",
       "0              0           N/A                     *                *   \n",
       "1              1      aircraft           Aircraft_ID      aircraft id   \n",
       "2              2      aircraft            Order_Year       order year   \n",
       "3              3      aircraft          Manufacturer     manufacturer   \n",
       "4              4      aircraft                 Model            model   \n",
       "5              5      aircraft          Fleet_Series     fleet series   \n",
       "6              6      aircraft            Powertrain       powertrain   \n",
       "7              7      aircraft       Fuel_Propulsion  fuel propulsion   \n",
       "8              8         pilot              Pilot_ID         pilot id   \n",
       "9              9         pilot            Pilot_name       pilot name   \n",
       "10            10         pilot                  Rank             rank   \n",
       "11            11         pilot                   Age              age   \n",
       "12            12         pilot           Nationality      nationality   \n",
       "13            13         pilot              Position         position   \n",
       "14            14         pilot             Join_Year        join year   \n",
       "15            15         pilot                  Team             team   \n",
       "16            16  pilot record             Record_ID        record id   \n",
       "17            17  pilot record              Pilot_ID         pilot id   \n",
       "18            18  pilot record           Aircraft_ID      aircraft id   \n",
       "19            19  pilot record                  Date             date   \n",
       "\n",
       "   column_types  is_primary_key  \n",
       "0          text           False  \n",
       "1        number            True  \n",
       "2        number           False  \n",
       "3          text           False  \n",
       "4          text           False  \n",
       "5          text           False  \n",
       "6          text           False  \n",
       "7          text           False  \n",
       "8        number            True  \n",
       "9          text           False  \n",
       "10       number           False  \n",
       "11       number           False  \n",
       "12         text           False  \n",
       "13         text           False  \n",
       "14       number           False  \n",
       "15         text           False  \n",
       "16       number           False  \n",
       "17       number            True  \n",
       "18       number           False  \n",
       "19         text           False  "
      ]
     },
     "execution_count": 131,
     "metadata": {},
     "output_type": "execute_result"
    }
   ],
   "source": [
    "column_names_df"
   ]
  },
  {
   "cell_type": "code",
   "execution_count": 132,
   "metadata": {
    "tags": []
   },
   "outputs": [
    {
     "data": {
      "text/html": [
       "<div>\n",
       "<style scoped>\n",
       "    .dataframe tbody tr th:only-of-type {\n",
       "        vertical-align: middle;\n",
       "    }\n",
       "\n",
       "    .dataframe tbody tr th {\n",
       "        vertical-align: top;\n",
       "    }\n",
       "\n",
       "    .dataframe thead th {\n",
       "        text-align: right;\n",
       "    }\n",
       "</style>\n",
       "<table border=\"1\" class=\"dataframe\">\n",
       "  <thead>\n",
       "    <tr style=\"text-align: right;\">\n",
       "      <th></th>\n",
       "      <th>table_name</th>\n",
       "      <th>primary_key_column_index</th>\n",
       "      <th>primary_key</th>\n",
       "    </tr>\n",
       "  </thead>\n",
       "  <tbody>\n",
       "    <tr>\n",
       "      <th>0</th>\n",
       "      <td>aircraft</td>\n",
       "      <td>1</td>\n",
       "      <td>aircraft id</td>\n",
       "    </tr>\n",
       "    <tr>\n",
       "      <th>1</th>\n",
       "      <td>pilot</td>\n",
       "      <td>8</td>\n",
       "      <td>pilot id</td>\n",
       "    </tr>\n",
       "    <tr>\n",
       "      <th>2</th>\n",
       "      <td>pilot record</td>\n",
       "      <td>17</td>\n",
       "      <td>pilot id</td>\n",
       "    </tr>\n",
       "  </tbody>\n",
       "</table>\n",
       "</div>"
      ],
      "text/plain": [
       "     table_name  primary_key_column_index  primary_key\n",
       "0      aircraft                         1  aircraft id\n",
       "1         pilot                         8     pilot id\n",
       "2  pilot record                        17     pilot id"
      ]
     },
     "execution_count": 132,
     "metadata": {},
     "output_type": "execute_result"
    }
   ],
   "source": [
    "primary_keys_df"
   ]
  },
  {
   "cell_type": "code",
   "execution_count": 133,
   "metadata": {
    "tags": []
   },
   "outputs": [
    {
     "data": {
      "text/html": [
       "<div>\n",
       "<style scoped>\n",
       "    .dataframe tbody tr th:only-of-type {\n",
       "        vertical-align: middle;\n",
       "    }\n",
       "\n",
       "    .dataframe tbody tr th {\n",
       "        vertical-align: top;\n",
       "    }\n",
       "\n",
       "    .dataframe thead th {\n",
       "        text-align: right;\n",
       "    }\n",
       "</style>\n",
       "<table border=\"1\" class=\"dataframe\">\n",
       "  <thead>\n",
       "    <tr style=\"text-align: right;\">\n",
       "      <th></th>\n",
       "      <th>foreign_key_column</th>\n",
       "      <th>referenced_column</th>\n",
       "      <th>foreign_key_table</th>\n",
       "      <th>foreign_key_column_name</th>\n",
       "      <th>referenced_table</th>\n",
       "      <th>referenced_column_name</th>\n",
       "    </tr>\n",
       "  </thead>\n",
       "  <tbody>\n",
       "    <tr>\n",
       "      <th>0</th>\n",
       "      <td>18</td>\n",
       "      <td>1</td>\n",
       "      <td>pilot record</td>\n",
       "      <td>aircraft id</td>\n",
       "      <td>aircraft</td>\n",
       "      <td>aircraft id</td>\n",
       "    </tr>\n",
       "    <tr>\n",
       "      <th>1</th>\n",
       "      <td>17</td>\n",
       "      <td>8</td>\n",
       "      <td>pilot record</td>\n",
       "      <td>pilot id</td>\n",
       "      <td>pilot</td>\n",
       "      <td>pilot id</td>\n",
       "    </tr>\n",
       "  </tbody>\n",
       "</table>\n",
       "</div>"
      ],
      "text/plain": [
       "   foreign_key_column  referenced_column foreign_key_table  \\\n",
       "0                  18                  1      pilot record   \n",
       "1                  17                  8      pilot record   \n",
       "\n",
       "  foreign_key_column_name referenced_table referenced_column_name  \n",
       "0             aircraft id         aircraft            aircraft id  \n",
       "1                pilot id            pilot               pilot id  "
      ]
     },
     "execution_count": 133,
     "metadata": {},
     "output_type": "execute_result"
    }
   ],
   "source": [
    "foreign_keys_df"
   ]
  },
  {
   "cell_type": "code",
   "execution_count": 134,
   "metadata": {
    "tags": []
   },
   "outputs": [],
   "source": [
    "schema, eval_foreign_key_maps = load_tables_from_schema_dict(selected_schema)\n",
    "#print(schema.keys())\n",
    "#print(eval_foreign_key_maps) "
   ]
  },
  {
   "cell_type": "code",
   "execution_count": 135,
   "metadata": {
    "tags": []
   },
   "outputs": [],
   "source": [
    "dataset = registry.construct('dataset_infer', {\n",
    "   \"name\": \"spider\", \"schemas\": schema, \"eval_foreign_key_maps\": eval_foreign_key_maps, \n",
    "    \"db_path\": db_path\n",
    "})"
   ]
  },
  {
   "cell_type": "code",
   "execution_count": 136,
   "metadata": {
    "tags": []
   },
   "outputs": [],
   "source": [
    "for _, schema_info in dataset.schemas.items():\n",
    "    model.preproc.enc_preproc._preprocess_schema(schema_info)"
   ]
  },
  {
   "cell_type": "code",
   "execution_count": 137,
   "metadata": {
    "tags": []
   },
   "outputs": [],
   "source": [
    "spider_schema = dataset.schemas[db_id]"
   ]
  },
  {
   "cell_type": "code",
   "execution_count": 138,
   "metadata": {
    "tags": []
   },
   "outputs": [
    {
     "name": "stdout",
     "output_type": "stream",
     "text": [
      "SELECT pilot.Pilot_name FROM pilot JOIN pilot_record ORDER BY pilot_record.Date Desc LIMIT 1\n"
     ]
    }
   ],
   "source": [
    "# question = \"Who was the pilot who flew first?\"\n",
    "\n",
    "# code = infer(question, spider_schema)\n",
    "# print(code)"
   ]
  },
  {
   "cell_type": "code",
   "execution_count": 150,
   "metadata": {},
   "outputs": [
    {
     "name": "stdin",
     "output_type": "stream",
     "text": [
      "Enter your question (or type 'exit' to quit):  Who was the pilot who flew first?\n"
     ]
    },
    {
     "data": {
      "text/markdown": [
       "**SELECT pilot.Pilot_name FROM pilot JOIN pilot_record ORDER BY pilot_record.Date Desc LIMIT 1**"
      ],
      "text/plain": [
       "<IPython.core.display.Markdown object>"
      ]
     },
     "metadata": {},
     "output_type": "display_data"
    },
    {
     "name": "stdout",
     "output_type": "stream",
     "text": [
      "-----------------\n"
     ]
    },
    {
     "name": "stdin",
     "output_type": "stream",
     "text": [
      "Enter your question (or type 'exit' to quit):  Who was the pilot who flew first?\n"
     ]
    },
    {
     "data": {
      "text/markdown": [
       "**SELECT pilot.Pilot_name FROM pilot JOIN pilot_record ORDER BY pilot_record.Date Desc LIMIT 1**"
      ],
      "text/plain": [
       "<IPython.core.display.Markdown object>"
      ]
     },
     "metadata": {},
     "output_type": "display_data"
    },
    {
     "name": "stdout",
     "output_type": "stream",
     "text": [
      "-----------------\n"
     ]
    },
    {
     "name": "stdin",
     "output_type": "stream",
     "text": [
      "Enter your question (or type 'exit' to quit):  exit\n"
     ]
    },
    {
     "name": "stdout",
     "output_type": "stream",
     "text": [
      "Exiting...\n"
     ]
    }
   ],
   "source": [
    "try:\n",
    "    while True:\n",
    "        question = input(\"Enter your question (or type 'exit' to quit): \")\n",
    "        if question.lower() == \"exit\":\n",
    "            print(\"Exiting...\")\n",
    "            break\n",
    "        \n",
    "        # Assuming infer() function is defined somewhere\n",
    "        code = infer(question, spider_schema)\n",
    "        \n",
    "        printmd(f\"**{code}**\")  # Bold formatting\n",
    "        print('-----------------')\n",
    "    \n",
    "except KeyboardInterrupt:\n",
    "    print(\"\\nKeyboard interrupt received. Exiting...\")"
   ]
  },
  {
   "cell_type": "code",
   "execution_count": null,
   "metadata": {},
   "outputs": [],
   "source": []
  }
 ],
 "metadata": {
  "kernelspec": {
   "display_name": "mtext2sql:Python",
   "language": "python",
   "name": "conda-env-mtext2sql-py"
  },
  "language_info": {
   "codemirror_mode": {
    "name": "ipython",
    "version": 3
   },
   "file_extension": ".py",
   "mimetype": "text/x-python",
   "name": "python",
   "nbconvert_exporter": "python",
   "pygments_lexer": "ipython3",
   "version": "3.7.12"
  }
 },
 "nbformat": 4,
 "nbformat_minor": 4
}
